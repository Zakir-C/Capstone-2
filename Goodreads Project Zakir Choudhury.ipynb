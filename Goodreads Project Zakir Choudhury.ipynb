{
 "cells": [
  {
   "cell_type": "code",
   "execution_count": 1,
   "id": "1905f4e6",
   "metadata": {},
   "outputs": [
    {
     "data": {
      "text/plain": [
       "' The model will take the description of a book, and put it into a catergory. That catergory would match with the publisher\\nthat published the book. The model should be able to predice which category a new book belongs to when given the description for that book. \\nNote these categories are not genres, but it is a caterigorization system that matches certain descriptions with publishers.\\nThe real world effect of this project would be to have an author use this model and their description of their book to\\nfind a publisher that is most likely going to publish their book, based on the publishers history of published book. '"
      ]
     },
     "execution_count": 1,
     "metadata": {},
     "output_type": "execute_result"
    }
   ],
   "source": [
    "''' Objective: create a model that can take a description of a book and match it with a publisher'''\n",
    "\n",
    "''' The model will take the description of a book, and put it into a catergory. That catergory would match with the publisher\n",
    "that published the book. The model should be able to predice which category a new book belongs to when given the description for that book. \n",
    "Note these categories are not genres, but it is a caterigorization system that matches certain descriptions with publishers.\n",
    "The real world effect of this project would be to have an author use this model and their description of their book to\n",
    "find a publisher that is most likely going to publish their book, based on the publishers history of published book. '''\n"
   ]
  },
  {
   "cell_type": "code",
   "execution_count": 2,
   "id": "f4c02764",
   "metadata": {},
   "outputs": [],
   "source": [
    "import pandas as pd\n",
    "import numpy as np\n",
    "import matplotlib.pyplot as plt \n",
    "import seaborn as sns\n",
    "from statistics import mean \n",
    "import os \n",
    "import glob\n",
    "from pathlib import Path"
   ]
  },
  {
   "cell_type": "code",
   "execution_count": null,
   "id": "4f067ddd",
   "metadata": {},
   "outputs": [],
   "source": []
  },
  {
   "cell_type": "code",
   "execution_count": 3,
   "id": "83b8a4ef",
   "metadata": {},
   "outputs": [
    {
     "name": "stdout",
     "output_type": "stream",
     "text": [
      "<class 'pandas.core.frame.DataFrame'>\n",
      "Int64Index: 1850310 entries, 0 to 34758\n",
      "Data columns (total 21 columns):\n",
      " #   Column                 Dtype  \n",
      "---  ------                 -----  \n",
      " 0   Id                     int64  \n",
      " 1   Name                   object \n",
      " 2   Authors                object \n",
      " 3   ISBN                   object \n",
      " 4   Rating                 float64\n",
      " 5   PublishYear            int64  \n",
      " 6   PublishMonth           int64  \n",
      " 7   PublishDay             int64  \n",
      " 8   Publisher              object \n",
      " 9   RatingDist5            object \n",
      " 10  RatingDist4            object \n",
      " 11  RatingDist3            object \n",
      " 12  RatingDist2            object \n",
      " 13  RatingDist1            object \n",
      " 14  RatingDistTotal        object \n",
      " 15  CountsOfReview         int64  \n",
      " 16  Language               object \n",
      " 17  PagesNumber            float64\n",
      " 18  Description            object \n",
      " 19  pagesNumber            float64\n",
      " 20  Count of text reviews  float64\n",
      "dtypes: float64(4), int64(5), object(12)\n",
      "memory usage: 310.6+ MB\n"
     ]
    }
   ],
   "source": [
    "# the goal for this line of code is to take all the good read files and combine it into one : credit sam partee https://www.kaggle.com/spartee\n",
    "full_ds = pd.concat([pd.read_csv(str(x.resolve())) for x in Path(\"/Users/zakir/DS Projects/goodreads_csv_file\").glob(\"*k.csv\")])\n",
    "full_ds.info()"
   ]
  },
  {
   "cell_type": "code",
   "execution_count": 4,
   "id": "9c3d7690",
   "metadata": {
    "scrolled": true
   },
   "outputs": [
    {
     "name": "stdout",
     "output_type": "stream",
     "text": [
      "<bound method NDFrame.head of             Id                                               Name  \\\n",
      "0      1900511                                         Barbarossa   \n",
      "1      1900512  Collector's Guide to German World War II: Comb...   \n",
      "2      1900514                               Images of Barbarossa   \n",
      "3      1900520        Romania After 2000: Five New Romanian Plays   \n",
      "4      1900521           Global Foreigners: An Anthology of Plays   \n",
      "...        ...                                                ...   \n",
      "34754  1499988         Irish Folk and Fairy Tales Omnibus Edition   \n",
      "34755  1499990              Robin Hood: The Shaping of the Legend   \n",
      "34756  1499991  International Business: Competing in the Globa...   \n",
      "34757  1499992                                 Competing on Value   \n",
      "34758  1499999  Fantastic Antone Grows Up: Adolescents and Adu...   \n",
      "\n",
      "                      Authors        ISBN  Rating  PublishYear  PublishMonth  \\\n",
      "0          Christopher Ailsby  1840138009    3.00         2007             4   \n",
      "1          Christopher Ailsby  0781802253    0.00         1994             7   \n",
      "2          Christopher Ailsby  0711028257    3.50         2001             1   \n",
      "3      Daniel Charles Gerould  0595436560    4.00         2007             9   \n",
      "4            Saviana Stănescu  1905422423    4.60         2006            12   \n",
      "...                       ...         ...     ...          ...           ...   \n",
      "34754           Michael Scott  0751508861    4.19         1989            24   \n",
      "34755      Jeffrey L. Singman  0313301018    3.00         1998            23   \n",
      "34756       Charles W.L. Hill  0073102555    3.73         2005             1   \n",
      "34757              Mack Hanan  0814450369    3.50         1991            22   \n",
      "34758        Judith Kleinfeld  1889963119    4.00         2000             1   \n",
      "\n",
      "       PublishDay                                    Publisher RatingDist5  \\\n",
      "0               1                               New Line Books         5:0   \n",
      "1               1                             Hippocrene Books         5:0   \n",
      "2              25                                Ian Allan Ltd         5:0   \n",
      "3               1  Martin E. Segal Theatre Center Publications         5:1   \n",
      "4               7                                Seagull Books         5:4   \n",
      "...           ...                                          ...         ...   \n",
      "34754           8                                       Sphere       5:140   \n",
      "34755           7                                      Praeger         5:0   \n",
      "34756          12                            Irwin/McGraw-Hill       5:105   \n",
      "34757           4                                       Amacom         5:2   \n",
      "34758           1                   University of Alaska Press         5:4   \n",
      "\n",
      "       ... RatingDist3 RatingDist2 RatingDist1 RatingDistTotal CountsOfReview  \\\n",
      "0      ...         3:1         2:0         1:0         total:1              0   \n",
      "1      ...         3:0         2:0         1:0         total:0              0   \n",
      "2      ...         3:2         2:1         1:0         total:8              0   \n",
      "3      ...         3:1         2:0         1:0         total:6              0   \n",
      "4      ...         3:1         2:0         1:0         total:5              0   \n",
      "...    ...         ...         ...         ...             ...            ...   \n",
      "34754  ...        3:42        2:13         1:4       total:311             10   \n",
      "34755  ...         3:1         2:0         1:0         total:1              0   \n",
      "34756  ...        3:89        2:26        1:19       total:345              8   \n",
      "34757  ...         3:2         2:2         1:0         total:8              1   \n",
      "34758  ...         3:4         2:0         1:0        total:13              4   \n",
      "\n",
      "       Language PagesNumber  \\\n",
      "0           NaN       192.0   \n",
      "1           NaN       160.0   \n",
      "2           NaN       256.0   \n",
      "3           NaN       226.0   \n",
      "4           NaN       320.0   \n",
      "...         ...         ...   \n",
      "34754       NaN         NaN   \n",
      "34755       NaN         NaN   \n",
      "34756       NaN         NaN   \n",
      "34757       NaN         NaN   \n",
      "34758       NaN         NaN   \n",
      "\n",
      "                                             Description pagesNumber  \\\n",
      "0      On 22 June 1941, Adolf Hitler launched Operati...         NaN   \n",
      "1                                                    NaN         NaN   \n",
      "2      On 22 June 1941, Adolf Hitler launched Operati...         NaN   \n",
      "3      The first anthology of new Romanian Drama publ...         NaN   \n",
      "4      In Waxing West, Daniella, newly arrived in the...         NaN   \n",
      "...                                                  ...         ...   \n",
      "34754  Here, collected in one volume, are tales and l...       637.0   \n",
      "34755  Among the narrative traditions of the Middle A...       224.0   \n",
      "34756                                                NaN       740.0   \n",
      "34757  Presents a new approach to selling that emphas...       220.0   \n",
      "34758  <i>Fantastic Antone Grows Up</i> is a field gu...       425.0   \n",
      "\n",
      "       Count of text reviews  \n",
      "0                        NaN  \n",
      "1                        NaN  \n",
      "2                        NaN  \n",
      "3                        NaN  \n",
      "4                        NaN  \n",
      "...                      ...  \n",
      "34754                   10.0  \n",
      "34755                    0.0  \n",
      "34756                    8.0  \n",
      "34757                    1.0  \n",
      "34758                    4.0  \n",
      "\n",
      "[1850310 rows x 21 columns]>\n"
     ]
    }
   ],
   "source": [
    "# checking the names of all the columns\n",
    "print(full_ds.head)\n"
   ]
  },
  {
   "cell_type": "code",
   "execution_count": 5,
   "id": "92760ce4",
   "metadata": {
    "scrolled": true
   },
   "outputs": [
    {
     "name": "stdout",
     "output_type": "stream",
     "text": [
      "<bound method NDFrame.tail of             Id                                               Name  \\\n",
      "0      1900511                                         Barbarossa   \n",
      "1      1900512  Collector's Guide to German World War II: Comb...   \n",
      "2      1900514                               Images of Barbarossa   \n",
      "3      1900520        Romania After 2000: Five New Romanian Plays   \n",
      "4      1900521           Global Foreigners: An Anthology of Plays   \n",
      "...        ...                                                ...   \n",
      "34754  1499988         Irish Folk and Fairy Tales Omnibus Edition   \n",
      "34755  1499990              Robin Hood: The Shaping of the Legend   \n",
      "34756  1499991  International Business: Competing in the Globa...   \n",
      "34757  1499992                                 Competing on Value   \n",
      "34758  1499999  Fantastic Antone Grows Up: Adolescents and Adu...   \n",
      "\n",
      "                      Authors        ISBN  Rating  PublishYear  PublishMonth  \\\n",
      "0          Christopher Ailsby  1840138009    3.00         2007             4   \n",
      "1          Christopher Ailsby  0781802253    0.00         1994             7   \n",
      "2          Christopher Ailsby  0711028257    3.50         2001             1   \n",
      "3      Daniel Charles Gerould  0595436560    4.00         2007             9   \n",
      "4            Saviana Stănescu  1905422423    4.60         2006            12   \n",
      "...                       ...         ...     ...          ...           ...   \n",
      "34754           Michael Scott  0751508861    4.19         1989            24   \n",
      "34755      Jeffrey L. Singman  0313301018    3.00         1998            23   \n",
      "34756       Charles W.L. Hill  0073102555    3.73         2005             1   \n",
      "34757              Mack Hanan  0814450369    3.50         1991            22   \n",
      "34758        Judith Kleinfeld  1889963119    4.00         2000             1   \n",
      "\n",
      "       PublishDay                                    Publisher RatingDist5  \\\n",
      "0               1                               New Line Books         5:0   \n",
      "1               1                             Hippocrene Books         5:0   \n",
      "2              25                                Ian Allan Ltd         5:0   \n",
      "3               1  Martin E. Segal Theatre Center Publications         5:1   \n",
      "4               7                                Seagull Books         5:4   \n",
      "...           ...                                          ...         ...   \n",
      "34754           8                                       Sphere       5:140   \n",
      "34755           7                                      Praeger         5:0   \n",
      "34756          12                            Irwin/McGraw-Hill       5:105   \n",
      "34757           4                                       Amacom         5:2   \n",
      "34758           1                   University of Alaska Press         5:4   \n",
      "\n",
      "       ... RatingDist3 RatingDist2 RatingDist1 RatingDistTotal CountsOfReview  \\\n",
      "0      ...         3:1         2:0         1:0         total:1              0   \n",
      "1      ...         3:0         2:0         1:0         total:0              0   \n",
      "2      ...         3:2         2:1         1:0         total:8              0   \n",
      "3      ...         3:1         2:0         1:0         total:6              0   \n",
      "4      ...         3:1         2:0         1:0         total:5              0   \n",
      "...    ...         ...         ...         ...             ...            ...   \n",
      "34754  ...        3:42        2:13         1:4       total:311             10   \n",
      "34755  ...         3:1         2:0         1:0         total:1              0   \n",
      "34756  ...        3:89        2:26        1:19       total:345              8   \n",
      "34757  ...         3:2         2:2         1:0         total:8              1   \n",
      "34758  ...         3:4         2:0         1:0        total:13              4   \n",
      "\n",
      "       Language PagesNumber  \\\n",
      "0           NaN       192.0   \n",
      "1           NaN       160.0   \n",
      "2           NaN       256.0   \n",
      "3           NaN       226.0   \n",
      "4           NaN       320.0   \n",
      "...         ...         ...   \n",
      "34754       NaN         NaN   \n",
      "34755       NaN         NaN   \n",
      "34756       NaN         NaN   \n",
      "34757       NaN         NaN   \n",
      "34758       NaN         NaN   \n",
      "\n",
      "                                             Description pagesNumber  \\\n",
      "0      On 22 June 1941, Adolf Hitler launched Operati...         NaN   \n",
      "1                                                    NaN         NaN   \n",
      "2      On 22 June 1941, Adolf Hitler launched Operati...         NaN   \n",
      "3      The first anthology of new Romanian Drama publ...         NaN   \n",
      "4      In Waxing West, Daniella, newly arrived in the...         NaN   \n",
      "...                                                  ...         ...   \n",
      "34754  Here, collected in one volume, are tales and l...       637.0   \n",
      "34755  Among the narrative traditions of the Middle A...       224.0   \n",
      "34756                                                NaN       740.0   \n",
      "34757  Presents a new approach to selling that emphas...       220.0   \n",
      "34758  <i>Fantastic Antone Grows Up</i> is a field gu...       425.0   \n",
      "\n",
      "       Count of text reviews  \n",
      "0                        NaN  \n",
      "1                        NaN  \n",
      "2                        NaN  \n",
      "3                        NaN  \n",
      "4                        NaN  \n",
      "...                      ...  \n",
      "34754                   10.0  \n",
      "34755                    0.0  \n",
      "34756                    8.0  \n",
      "34757                    1.0  \n",
      "34758                    4.0  \n",
      "\n",
      "[1850310 rows x 21 columns]>\n"
     ]
    }
   ],
   "source": [
    "print(full_ds.tail)"
   ]
  },
  {
   "cell_type": "code",
   "execution_count": 6,
   "id": "c501f617",
   "metadata": {},
   "outputs": [
    {
     "data": {
      "text/html": [
       "<div>\n",
       "<style scoped>\n",
       "    .dataframe tbody tr th:only-of-type {\n",
       "        vertical-align: middle;\n",
       "    }\n",
       "\n",
       "    .dataframe tbody tr th {\n",
       "        vertical-align: top;\n",
       "    }\n",
       "\n",
       "    .dataframe thead th {\n",
       "        text-align: right;\n",
       "    }\n",
       "</style>\n",
       "<table border=\"1\" class=\"dataframe\">\n",
       "  <thead>\n",
       "    <tr style=\"text-align: right;\">\n",
       "      <th></th>\n",
       "      <th>Publisher</th>\n",
       "      <th>Description</th>\n",
       "    </tr>\n",
       "  </thead>\n",
       "  <tbody>\n",
       "    <tr>\n",
       "      <th>0</th>\n",
       "      <td>New Line Books</td>\n",
       "      <td>On 22 June 1941, Adolf Hitler launched Operati...</td>\n",
       "    </tr>\n",
       "    <tr>\n",
       "      <th>1</th>\n",
       "      <td>Hippocrene Books</td>\n",
       "      <td>NaN</td>\n",
       "    </tr>\n",
       "    <tr>\n",
       "      <th>2</th>\n",
       "      <td>Ian Allan Ltd</td>\n",
       "      <td>On 22 June 1941, Adolf Hitler launched Operati...</td>\n",
       "    </tr>\n",
       "    <tr>\n",
       "      <th>3</th>\n",
       "      <td>Martin E. Segal Theatre Center Publications</td>\n",
       "      <td>The first anthology of new Romanian Drama publ...</td>\n",
       "    </tr>\n",
       "    <tr>\n",
       "      <th>4</th>\n",
       "      <td>Seagull Books</td>\n",
       "      <td>In Waxing West, Daniella, newly arrived in the...</td>\n",
       "    </tr>\n",
       "    <tr>\n",
       "      <th>...</th>\n",
       "      <td>...</td>\n",
       "      <td>...</td>\n",
       "    </tr>\n",
       "    <tr>\n",
       "      <th>34754</th>\n",
       "      <td>Sphere</td>\n",
       "      <td>Here, collected in one volume, are tales and l...</td>\n",
       "    </tr>\n",
       "    <tr>\n",
       "      <th>34755</th>\n",
       "      <td>Praeger</td>\n",
       "      <td>Among the narrative traditions of the Middle A...</td>\n",
       "    </tr>\n",
       "    <tr>\n",
       "      <th>34756</th>\n",
       "      <td>Irwin/McGraw-Hill</td>\n",
       "      <td>NaN</td>\n",
       "    </tr>\n",
       "    <tr>\n",
       "      <th>34757</th>\n",
       "      <td>Amacom</td>\n",
       "      <td>Presents a new approach to selling that emphas...</td>\n",
       "    </tr>\n",
       "    <tr>\n",
       "      <th>34758</th>\n",
       "      <td>University of Alaska Press</td>\n",
       "      <td>&lt;i&gt;Fantastic Antone Grows Up&lt;/i&gt; is a field gu...</td>\n",
       "    </tr>\n",
       "  </tbody>\n",
       "</table>\n",
       "<p>1850310 rows × 2 columns</p>\n",
       "</div>"
      ],
      "text/plain": [
       "                                         Publisher  \\\n",
       "0                                   New Line Books   \n",
       "1                                 Hippocrene Books   \n",
       "2                                    Ian Allan Ltd   \n",
       "3      Martin E. Segal Theatre Center Publications   \n",
       "4                                    Seagull Books   \n",
       "...                                            ...   \n",
       "34754                                       Sphere   \n",
       "34755                                      Praeger   \n",
       "34756                            Irwin/McGraw-Hill   \n",
       "34757                                       Amacom   \n",
       "34758                   University of Alaska Press   \n",
       "\n",
       "                                             Description  \n",
       "0      On 22 June 1941, Adolf Hitler launched Operati...  \n",
       "1                                                    NaN  \n",
       "2      On 22 June 1941, Adolf Hitler launched Operati...  \n",
       "3      The first anthology of new Romanian Drama publ...  \n",
       "4      In Waxing West, Daniella, newly arrived in the...  \n",
       "...                                                  ...  \n",
       "34754  Here, collected in one volume, are tales and l...  \n",
       "34755  Among the narrative traditions of the Middle A...  \n",
       "34756                                                NaN  \n",
       "34757  Presents a new approach to selling that emphas...  \n",
       "34758  <i>Fantastic Antone Grows Up</i> is a field gu...  \n",
       "\n",
       "[1850310 rows x 2 columns]"
      ]
     },
     "execution_count": 6,
     "metadata": {},
     "output_type": "execute_result"
    }
   ],
   "source": [
    "# these 2 columns are probably the only columns i need \n",
    "full_ds[[\"Publisher\", \"Description\"]]"
   ]
  },
  {
   "cell_type": "code",
   "execution_count": 7,
   "id": "5205a35d",
   "metadata": {},
   "outputs": [
    {
     "name": "stdout",
     "output_type": "stream",
     "text": [
      "0        On 22 June 1941, Adolf Hitler launched Operati...\n",
      "1                                                      NaN\n",
      "2        On 22 June 1941, Adolf Hitler launched Operati...\n",
      "3        The first anthology of new Romanian Drama publ...\n",
      "4        In Waxing West, Daniella, newly arrived in the...\n",
      "                               ...                        \n",
      "34754    Here, collected in one volume, are tales and l...\n",
      "34755    Among the narrative traditions of the Middle A...\n",
      "34756                                                  NaN\n",
      "34757    Presents a new approach to selling that emphas...\n",
      "34758    <i>Fantastic Antone Grows Up</i> is a field gu...\n",
      "Name: Description, Length: 1850310, dtype: object\n"
     ]
    }
   ],
   "source": [
    "print(full_ds[\"Description\"])"
   ]
  },
  {
   "cell_type": "code",
   "execution_count": 8,
   "id": "ce98d040",
   "metadata": {},
   "outputs": [
    {
     "name": "stdout",
     "output_type": "stream",
     "text": [
      "                                         Publisher  \\\n",
      "0                                   New Line Books   \n",
      "1                                 Hippocrene Books   \n",
      "2                                    Ian Allan Ltd   \n",
      "3      Martin E. Segal Theatre Center Publications   \n",
      "4                                    Seagull Books   \n",
      "...                                            ...   \n",
      "34754                                       Sphere   \n",
      "34755                                      Praeger   \n",
      "34756                            Irwin/McGraw-Hill   \n",
      "34757                                       Amacom   \n",
      "34758                   University of Alaska Press   \n",
      "\n",
      "                                             Description  \n",
      "0      On 22 June 1941, Adolf Hitler launched Operati...  \n",
      "1                                                    NaN  \n",
      "2      On 22 June 1941, Adolf Hitler launched Operati...  \n",
      "3      The first anthology of new Romanian Drama publ...  \n",
      "4      In Waxing West, Daniella, newly arrived in the...  \n",
      "...                                                  ...  \n",
      "34754  Here, collected in one volume, are tales and l...  \n",
      "34755  Among the narrative traditions of the Middle A...  \n",
      "34756                                                NaN  \n",
      "34757  Presents a new approach to selling that emphas...  \n",
      "34758  <i>Fantastic Antone Grows Up</i> is a field gu...  \n",
      "\n",
      "[1850310 rows x 2 columns]\n"
     ]
    }
   ],
   "source": [
    "pub_desc = full_ds[[\"Publisher\", \"Description\"]]\n",
    "print(pub_desc)"
   ]
  },
  {
   "cell_type": "code",
   "execution_count": 9,
   "id": "0c8188c5",
   "metadata": {},
   "outputs": [
    {
     "data": {
      "text/plain": [
       "<bound method DataFrame.info of                                          Publisher  \\\n",
       "0                                   New Line Books   \n",
       "1                                 Hippocrene Books   \n",
       "2                                    Ian Allan Ltd   \n",
       "3      Martin E. Segal Theatre Center Publications   \n",
       "4                                    Seagull Books   \n",
       "...                                            ...   \n",
       "34754                                       Sphere   \n",
       "34755                                      Praeger   \n",
       "34756                            Irwin/McGraw-Hill   \n",
       "34757                                       Amacom   \n",
       "34758                   University of Alaska Press   \n",
       "\n",
       "                                             Description  \n",
       "0      On 22 June 1941, Adolf Hitler launched Operati...  \n",
       "1                                                    NaN  \n",
       "2      On 22 June 1941, Adolf Hitler launched Operati...  \n",
       "3      The first anthology of new Romanian Drama publ...  \n",
       "4      In Waxing West, Daniella, newly arrived in the...  \n",
       "...                                                  ...  \n",
       "34754  Here, collected in one volume, are tales and l...  \n",
       "34755  Among the narrative traditions of the Middle A...  \n",
       "34756                                                NaN  \n",
       "34757  Presents a new approach to selling that emphas...  \n",
       "34758  <i>Fantastic Antone Grows Up</i> is a field gu...  \n",
       "\n",
       "[1850310 rows x 2 columns]>"
      ]
     },
     "execution_count": 9,
     "metadata": {},
     "output_type": "execute_result"
    }
   ],
   "source": [
    "pub_desc.info\n",
    "\n",
    "#this quick overview shows me that there are descriptions missing "
   ]
  },
  {
   "cell_type": "code",
   "execution_count": 10,
   "id": "cd209545",
   "metadata": {
    "scrolled": true
   },
   "outputs": [
    {
     "data": {
      "text/plain": [
       "Publisher      object\n",
       "Description    object\n",
       "dtype: object"
      ]
     },
     "execution_count": 10,
     "metadata": {},
     "output_type": "execute_result"
    }
   ],
   "source": [
    "pub_desc.dtypes\n",
    "# objects for both publisher and description is correct "
   ]
  },
  {
   "cell_type": "code",
   "execution_count": 11,
   "id": "90af1e76",
   "metadata": {
    "scrolled": true
   },
   "outputs": [
    {
     "name": "stdout",
     "output_type": "stream",
     "text": [
      "Publisher       17826\n",
      "Description    679122\n",
      "dtype: int64\n"
     ]
    }
   ],
   "source": [
    "# find the missing data \n",
    "print(pub_desc.isnull().sum())    "
   ]
  },
  {
   "cell_type": "code",
   "execution_count": 12,
   "id": "0f5bae6e",
   "metadata": {},
   "outputs": [
    {
     "name": "stdout",
     "output_type": "stream",
     "text": [
      "                                         Publisher  \\\n",
      "0                                   New Line Books   \n",
      "2                                    Ian Allan Ltd   \n",
      "3      Martin E. Segal Theatre Center Publications   \n",
      "4                                    Seagull Books   \n",
      "5                             Meeting Eyes Bindery   \n",
      "...                                            ...   \n",
      "34752                                O'Brien Press   \n",
      "34754                                       Sphere   \n",
      "34755                                      Praeger   \n",
      "34757                                       Amacom   \n",
      "34758                   University of Alaska Press   \n",
      "\n",
      "                                             Description  \n",
      "0      On 22 June 1941, Adolf Hitler launched Operati...  \n",
      "2      On 22 June 1941, Adolf Hitler launched Operati...  \n",
      "3      The first anthology of new Romanian Drama publ...  \n",
      "4      In Waxing West, Daniella, newly arrived in the...  \n",
      "5      Poetry. Translation. DIARY OF A CLONE is a sma...  \n",
      "...                                                  ...  \n",
      "34752  Irish fairy tales and legends are full of ench...  \n",
      "34754  Here, collected in one volume, are tales and l...  \n",
      "34755  Among the narrative traditions of the Middle A...  \n",
      "34757  Presents a new approach to selling that emphas...  \n",
      "34758  <i>Fantastic Antone Grows Up</i> is a field gu...  \n",
      "\n",
      "[1163326 rows x 2 columns]\n"
     ]
    }
   ],
   "source": [
    "# I decided to remove the rows with the missing data (either missing publisher or missing description)\n",
    "# by doing this I got rid of approximately 700k rows, but I have 1.1million rows left, which I think is acceptable to work with\n",
    "# I think trying to find the publishers and descriptions of the 700k rows would be too time consuming \n",
    "pub_desc = pub_desc.dropna()\n",
    "print(pub_desc)"
   ]
  },
  {
   "cell_type": "code",
   "execution_count": 13,
   "id": "abef7295",
   "metadata": {},
   "outputs": [
    {
     "name": "stdout",
     "output_type": "stream",
     "text": [
      "                                           Publisher  \\\n",
      "0                                     New Line Books   \n",
      "1                                      Ian Allan Ltd   \n",
      "2        Martin E. Segal Theatre Center Publications   \n",
      "3                                      Seagull Books   \n",
      "4                               Meeting Eyes Bindery   \n",
      "...                                              ...   \n",
      "1163321                                O'Brien Press   \n",
      "1163322                                       Sphere   \n",
      "1163323                                      Praeger   \n",
      "1163324                                       Amacom   \n",
      "1163325                   University of Alaska Press   \n",
      "\n",
      "                                               Description  \n",
      "0        On 22 June 1941, Adolf Hitler launched Operati...  \n",
      "1        On 22 June 1941, Adolf Hitler launched Operati...  \n",
      "2        The first anthology of new Romanian Drama publ...  \n",
      "3        In Waxing West, Daniella, newly arrived in the...  \n",
      "4        Poetry. Translation. DIARY OF A CLONE is a sma...  \n",
      "...                                                    ...  \n",
      "1163321  Irish fairy tales and legends are full of ench...  \n",
      "1163322  Here, collected in one volume, are tales and l...  \n",
      "1163323  Among the narrative traditions of the Middle A...  \n",
      "1163324  Presents a new approach to selling that emphas...  \n",
      "1163325  <i>Fantastic Antone Grows Up</i> is a field gu...  \n",
      "\n",
      "[1163326 rows x 2 columns]\n"
     ]
    }
   ],
   "source": [
    "# reset the index. \n",
    "pub_desc = pub_desc.reset_index(drop=True)\n",
    "print(pub_desc)"
   ]
  },
  {
   "cell_type": "code",
   "execution_count": 14,
   "id": "67f01702",
   "metadata": {},
   "outputs": [
    {
     "data": {
      "text/html": [
       "<div>\n",
       "<style scoped>\n",
       "    .dataframe tbody tr th:only-of-type {\n",
       "        vertical-align: middle;\n",
       "    }\n",
       "\n",
       "    .dataframe tbody tr th {\n",
       "        vertical-align: top;\n",
       "    }\n",
       "\n",
       "    .dataframe thead th {\n",
       "        text-align: right;\n",
       "    }\n",
       "</style>\n",
       "<table border=\"1\" class=\"dataframe\">\n",
       "  <thead>\n",
       "    <tr style=\"text-align: right;\">\n",
       "      <th></th>\n",
       "      <th>Publisher</th>\n",
       "      <th>Description</th>\n",
       "    </tr>\n",
       "  </thead>\n",
       "  <tbody>\n",
       "    <tr>\n",
       "      <th>816431</th>\n",
       "      <td>Nelson Thornes</td>\n",
       "      <td>!Asi! is the Spanish course for the Key Stage ...</td>\n",
       "    </tr>\n",
       "    <tr>\n",
       "      <th>816432</th>\n",
       "      <td>Nelson Thornes</td>\n",
       "      <td>!Asi! is the Spanish course for the Key Stage ...</td>\n",
       "    </tr>\n",
       "    <tr>\n",
       "      <th>5806</th>\n",
       "      <td>Birkhauser</td>\n",
       "      <td>\"</td>\n",
       "    </tr>\n",
       "    <tr>\n",
       "      <th>396268</th>\n",
       "      <td>Birkhauser</td>\n",
       "      <td>\"</td>\n",
       "    </tr>\n",
       "    <tr>\n",
       "      <th>1153741</th>\n",
       "      <td>Birkhauser</td>\n",
       "      <td>\"</td>\n",
       "    </tr>\n",
       "    <tr>\n",
       "      <th>...</th>\n",
       "      <td>...</td>\n",
       "      <td>...</td>\n",
       "    </tr>\n",
       "    <tr>\n",
       "      <th>601120</th>\n",
       "      <td>講談社</td>\n",
       "      <td>超ベストセラー「あさきゆめみし」文庫化!永遠のベストセラー・源氏物語をコミック化して1600...</td>\n",
       "    </tr>\n",
       "    <tr>\n",
       "      <th>601121</th>\n",
       "      <td>講談社</td>\n",
       "      <td>超ベストセラー「あさきゆめみし」文庫化!永遠のベストセラー・源氏物語をコミック化して1600...</td>\n",
       "    </tr>\n",
       "    <tr>\n",
       "      <th>601122</th>\n",
       "      <td>講談社</td>\n",
       "      <td>超ベストセラー「あさきゆめみし」文庫化!永遠のベストセラー・源氏物語をコミック化して1600...</td>\n",
       "    </tr>\n",
       "    <tr>\n",
       "      <th>1099342</th>\n",
       "      <td>Walter de Gruyter</td>\n",
       "      <td>﻿Die Reihe &lt;em&gt;Studia Samaritana &lt;/em&gt;versamme...</td>\n",
       "    </tr>\n",
       "    <tr>\n",
       "      <th>900520</th>\n",
       "      <td>Walter de Gruyter</td>\n",
       "      <td>﻿Die Reihe &lt;em&gt;Studia Samaritana &lt;/em&gt;versamme...</td>\n",
       "    </tr>\n",
       "  </tbody>\n",
       "</table>\n",
       "<p>92297 rows × 2 columns</p>\n",
       "</div>"
      ],
      "text/plain": [
       "                 Publisher                                        Description\n",
       "816431      Nelson Thornes  !Asi! is the Spanish course for the Key Stage ...\n",
       "816432      Nelson Thornes  !Asi! is the Spanish course for the Key Stage ...\n",
       "5806            Birkhauser                                                  \"\n",
       "396268          Birkhauser                                                  \"\n",
       "1153741         Birkhauser                                                  \"\n",
       "...                    ...                                                ...\n",
       "601120                 講談社  超ベストセラー「あさきゆめみし」文庫化!永遠のベストセラー・源氏物語をコミック化して1600...\n",
       "601121                 講談社  超ベストセラー「あさきゆめみし」文庫化!永遠のベストセラー・源氏物語をコミック化して1600...\n",
       "601122                 講談社  超ベストセラー「あさきゆめみし」文庫化!永遠のベストセラー・源氏物語をコミック化して1600...\n",
       "1099342  Walter de Gruyter  ﻿Die Reihe <em>Studia Samaritana </em>versamme...\n",
       "900520   Walter de Gruyter  ﻿Die Reihe <em>Studia Samaritana </em>versamme...\n",
       "\n",
       "[92297 rows x 2 columns]"
      ]
     },
     "execution_count": 14,
     "metadata": {},
     "output_type": "execute_result"
    }
   ],
   "source": [
    "# now to check if there are duplicate rows \n",
    "column_names = ['Publisher', 'Description']\n",
    "duplicates = pub_desc.duplicated(subset = column_names, keep = False )\n",
    "pub_desc[duplicates].sort_values(by = \"Description\")"
   ]
  },
  {
   "cell_type": "code",
   "execution_count": 15,
   "id": "30c55c28",
   "metadata": {},
   "outputs": [],
   "source": [
    "# going to drop duplicates as it wont add any value,\n",
    "# but a new problem is non english characters which I have to figure out what to do about. \n",
    "pub_desc.drop_duplicates(inplace=True)"
   ]
  },
  {
   "cell_type": "code",
   "execution_count": 16,
   "id": "7450afef",
   "metadata": {},
   "outputs": [
    {
     "data": {
      "text/html": [
       "<div>\n",
       "<style scoped>\n",
       "    .dataframe tbody tr th:only-of-type {\n",
       "        vertical-align: middle;\n",
       "    }\n",
       "\n",
       "    .dataframe tbody tr th {\n",
       "        vertical-align: top;\n",
       "    }\n",
       "\n",
       "    .dataframe thead th {\n",
       "        text-align: right;\n",
       "    }\n",
       "</style>\n",
       "<table border=\"1\" class=\"dataframe\">\n",
       "  <thead>\n",
       "    <tr style=\"text-align: right;\">\n",
       "      <th></th>\n",
       "      <th>Publisher</th>\n",
       "      <th>Description</th>\n",
       "    </tr>\n",
       "  </thead>\n",
       "  <tbody>\n",
       "  </tbody>\n",
       "</table>\n",
       "</div>"
      ],
      "text/plain": [
       "Empty DataFrame\n",
       "Columns: [Publisher, Description]\n",
       "Index: []"
      ]
     },
     "execution_count": 16,
     "metadata": {},
     "output_type": "execute_result"
    }
   ],
   "source": [
    "pub_desc[pub_desc.duplicated(keep = False)]\n",
    "#great no more duplications! "
   ]
  },
  {
   "cell_type": "code",
   "execution_count": 17,
   "id": "e914900a",
   "metadata": {},
   "outputs": [
    {
     "name": "stdout",
     "output_type": "stream",
     "text": [
      "<class 'pandas.core.frame.DataFrame'>\n",
      "Int64Index: 1105015 entries, 0 to 1163325\n",
      "Data columns (total 2 columns):\n",
      " #   Column       Non-Null Count    Dtype \n",
      "---  ------       --------------    ----- \n",
      " 0   Publisher    1105015 non-null  object\n",
      " 1   Description  1105015 non-null  object\n",
      "dtypes: object(2)\n",
      "memory usage: 25.3+ MB\n"
     ]
    }
   ],
   "source": [
    "pub_desc.info()"
   ]
  }
 ],
 "metadata": {
  "kernelspec": {
   "display_name": "Python 3 (ipykernel)",
   "language": "python",
   "name": "python3"
  },
  "language_info": {
   "codemirror_mode": {
    "name": "ipython",
    "version": 3
   },
   "file_extension": ".py",
   "mimetype": "text/x-python",
   "name": "python",
   "nbconvert_exporter": "python",
   "pygments_lexer": "ipython3",
   "version": "3.9.7"
  }
 },
 "nbformat": 4,
 "nbformat_minor": 5
}
